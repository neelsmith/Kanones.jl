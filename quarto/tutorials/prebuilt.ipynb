{
  "cells": [
    {
      "cell_type": "raw",
      "metadata": {},
      "source": [
        "---\n",
        "title: \"Use a pre-built parser\"\n",
        "---"
      ],
      "id": "696b8af5"
    },
    {
      "cell_type": "markdown",
      "metadata": {},
      "source": [
        "In addition to building parsers from a data set of local source files, you can save and load compiled parsers as a single delimited-text file.\n",
        "\n",
        "A very small parser to demonstrate inflectional rules with a minimal vocabulary set is available from the Kanones github repository, at `https://raw.githubusercontent.com/neelsmith/Kanones.jl/main/test/data/lgr-rulesparser.cex`.\n",
        "\n",
        "\n",
        "\n",
        "We can download this file and build a parser from it. (To be tidy, we'll remove the temporary data file we downloaded once we've got a parser.)\n"
      ],
      "id": "ff32ea9e"
    },
    {
      "cell_type": "code",
      "metadata": {},
      "source": [
        "#| warning: false\n",
        "using Kanones, Downloads\n",
        "parserurl = \"https://raw.githubusercontent.com/neelsmith/Kanones.jl/main/test/data/lgr-rulesparser.cex\"\n",
        "datafile = Downloads.download(parserurl)\n",
        "parser = dfParser(datafile)\n",
        "rm(datafile)"
      ],
      "id": "0e1c120a",
      "execution_count": null,
      "outputs": []
    },
    {
      "cell_type": "markdown",
      "metadata": {},
      "source": [
        "Now we can use it like any other parser.\n"
      ],
      "id": "23bda0a7"
    },
    {
      "cell_type": "code",
      "metadata": {},
      "source": [
        "s = \"ἀγαθόν\"\n",
        "parses = parsetoken(s, parser)"
      ],
      "id": "7e5fc5f3",
      "execution_count": null,
      "outputs": []
    },
    {
      "cell_type": "markdown",
      "metadata": {},
      "source": [
        "## Prebuilt parsers you can use\n",
        "\n",
        "A prebuilt parser for texts in standard literary Greek orthography is regularly available for download from `shot.holycross.edu`.\n",
        "\n",
        "\n",
        "- `http://shot.holycross.edu/morphology/comprehensive-current.csv` is a prebuilt parser that includes vocabulary automatically culled from the digital Liddell-Scott lexicon published by the Perseus project.  The vocabulary entries have not been manually verified.\n",
        "\n",
        "In 2024, this parser is not yet automatically rebuilt on a regular time table.\n",
        "\n",
        "Load it and use it to parse texts the same way you would if you compiled your own parser.    \n",
        "\n",
        "\n",
        "::: {.callout-caution}\n",
        "This is a large file (currently, ca. 700 Mb); depending on your internet connection, it can easily take a couple of minutes to download.\n",
        ":::\n",
        "\n",
        "There is also `http://shot.holycross.edu/morphology/attic_core-current.cex`.\n"
      ],
      "id": "e90c3d40"
    }
  ],
  "metadata": {
    "kernelspec": {
      "name": "julia-1.10",
      "language": "julia",
      "display_name": "Julia 1.10.0"
    }
  },
  "nbformat": 4,
  "nbformat_minor": 5
}