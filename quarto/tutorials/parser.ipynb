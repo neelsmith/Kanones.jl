{
  "cells": [
    {
      "cell_type": "raw",
      "metadata": {},
      "source": [
        "---\n",
        "title: \"Build a parser and parse a Greek string\"\n",
        "---"
      ],
      "id": "c7327866"
    },
    {
      "cell_type": "code",
      "metadata": {},
      "source": [
        "#| echo: false\n",
        "#| output: false\n",
        "\n",
        "repo = pwd() |> dirname |> dirname"
      ],
      "id": "5cbcf0c5",
      "execution_count": null,
      "outputs": []
    },
    {
      "cell_type": "markdown",
      "metadata": {},
      "source": [
        "::: {.callout-tip}\n",
        "## Follow along\n",
        "\n",
        "To replicate all the steps in this tutorial:\n",
        "\n",
        "- [install Julia](https://julialang.org/downloads/) if you haven't already done so\n",
        "- download or clone the [Kanones.jl repository](https://github.com/neelsmith/Kanones.jl)\n",
        "- start a Julia REPL\n",
        "::: \n",
        "\n",
        "## Building a parser\n",
        "\n",
        "You can build a parser from delimited-text files organized in directories following Kanónes' conventions. This example uses [the `literarygreek-rules` data set](https://github.com/neelsmith/Kanones.jl/tree/main/datasets/literarygreek-rules) from the `datasets` directory of the Kanónes github repository.\n",
        "\n",
        "If you have a variable named `repo` with the root directory of the Kanónes repository, then the `literarygreek-rules` directory will be:\n"
      ],
      "id": "4d6d939d"
    },
    {
      "cell_type": "code",
      "metadata": {},
      "source": [
        "srcdir = joinpath(repo, \"datasets\", \"literarygreek-rules\") "
      ],
      "id": "b3060f4e",
      "execution_count": null,
      "outputs": []
    },
    {
      "cell_type": "markdown",
      "metadata": {},
      "source": [
        "You can create a `Kanones.FilesDataSet` from a list of one or more directories with Kanónes data.\n"
      ],
      "id": "309ef37b"
    },
    {
      "cell_type": "code",
      "metadata": {},
      "source": [
        "using Kanones\n",
        "kds = dataset([srcdir])"
      ],
      "id": "da893b1a",
      "execution_count": null,
      "outputs": []
    },
    {
      "cell_type": "markdown",
      "metadata": {},
      "source": [
        "You can then build a parser from a data set.\n"
      ],
      "id": "1a2b0ae9"
    },
    {
      "cell_type": "code",
      "metadata": {
        "warnings": false
      },
      "source": [
        "p = stringParser(kds)"
      ],
      "id": "b945f9c9",
      "execution_count": null,
      "outputs": []
    },
    {
      "cell_type": "markdown",
      "metadata": {},
      "source": [
        "### Interactive parsing\n",
        "\n",
        "Use the `parsetoken` function to parse a string with a parser. \n"
      ],
      "id": "0014bf22"
    },
    {
      "cell_type": "code",
      "metadata": {},
      "source": [
        "s = \"ἀνθρώπῳ\"\n",
        "parses = parsetoken(s, p)"
      ],
      "id": "c1f67e99",
      "execution_count": null,
      "outputs": []
    },
    {
      "cell_type": "markdown",
      "metadata": {},
      "source": [
        "The result is a Vector of analyses.\n",
        "\n",
        "Extract a `GreekMorphologicalForm` from each analysis, and apply the `label` function to each:\n"
      ],
      "id": "8034ddfb"
    },
    {
      "cell_type": "code",
      "metadata": {},
      "source": [
        "parses .|> greekForm .|> label"
      ],
      "id": "b6750c79",
      "execution_count": null,
      "outputs": []
    },
    {
      "cell_type": "markdown",
      "metadata": {},
      "source": [
        "Extract URNs for the lexeme from each analysis with the `lexemeurn` function from the `CitableParserBuilder` package:\n"
      ],
      "id": "90306903"
    },
    {
      "cell_type": "code",
      "metadata": {},
      "source": [
        "using CitableParserBuilder\n",
        "lexemelist = parses .|> lexemeurn"
      ],
      "id": "2564b33e",
      "execution_count": null,
      "outputs": []
    },
    {
      "cell_type": "markdown",
      "metadata": {},
      "source": [
        "After downloading LSJ labels for lexemes in the `lsj` collection, label lexemes with LSJ labels included.\n"
      ],
      "id": "a462dde4"
    },
    {
      "cell_type": "code",
      "metadata": {},
      "source": [
        "lsj = lemmatadict()"
      ],
      "id": "60b30b82",
      "execution_count": null,
      "outputs": []
    },
    {
      "cell_type": "code",
      "metadata": {},
      "source": [
        "lemmalabel.(lexemelist, dict = lsj)"
      ],
      "id": "7da27e9b",
      "execution_count": null,
      "outputs": []
    }
  ],
  "metadata": {
    "kernelspec": {
      "name": "julia-1.10",
      "language": "julia",
      "display_name": "Julia 1.10.0"
    }
  },
  "nbformat": 4,
  "nbformat_minor": 5
}